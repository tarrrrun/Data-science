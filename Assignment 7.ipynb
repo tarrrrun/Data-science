{
 "cells": [
  {
   "cell_type": "markdown",
   "id": "e828858a",
   "metadata": {},
   "source": [
    "# Python Basic Assignment - 7 "
   ]
  },
  {
   "cell_type": "markdown",
   "id": "0a8b4659",
   "metadata": {},
   "source": [
    "tarunchaudhary358@gmail.com"
   ]
  },
  {
   "cell_type": "markdown",
   "id": "9d2420d3",
   "metadata": {},
   "source": [
    "# 21 May"
   ]
  },
  {
   "cell_type": "markdown",
   "id": "9c23fdbe",
   "metadata": {},
   "source": [
    "Q.1. Create two int type variables, apply addition, subtraction, division and multiplications and store the results in variables. Then print the data in the following format by calling the variables:\n",
    "First variable is __ & second variable is __. Addition: __ + __ = __\n",
    "Subtraction: __ - __ = __\n",
    "Multiplication: __ * __ = __\n",
    "Division: __ / __ = __"
   ]
  },
  {
   "cell_type": "code",
   "execution_count": 12,
   "id": "6ba9a573",
   "metadata": {},
   "outputs": [
    {
     "name": "stdout",
     "output_type": "stream",
     "text": [
      "Addition: 10 + 5 = 15\n",
      "Subtraction: 10 - 5 = 5\n",
      "MUltiplication: 10 * 5 = 50\n",
      "Division: 10 / 5 = 2.0\n"
     ]
    }
   ],
   "source": [
    "var_1 = 10\n",
    "var_2 = 5\n",
    "\n",
    "add= var_1+var_2\n",
    "sub=var_1-var_2\n",
    "multi = var_1*var_2\n",
    "div = var_1/var_2\n",
    "\n",
    "print(f\"Addition: {var_1} + {var_2} = {add}\")\n",
    "print(f\"Subtraction: {var_1} - {var_2} = {sub}\")\n",
    "print(f\"MUltiplication: {var_1} * {var_2} = {multi}\")\n",
    "print(f\"Division: {var_1} / {var_2} = {div}\")"
   ]
  },
  {
   "cell_type": "markdown",
   "id": "f48cde9b",
   "metadata": {},
   "source": [
    "Q.2. What is the difference between the following operators:\n",
    "(i) ‘/’ & ‘//’\n",
    "(ii) ‘**’ & ‘^’"
   ]
  },
  {
   "cell_type": "raw",
   "id": "ddfc5e93",
   "metadata": {},
   "source": [
    "Ans.)\n",
    "(i) '/' & '//' :-\n",
    "                The '/' operator is a division operator in python that returns the floating value of the quotient \n",
    "                all the values after the decimal also. For example:- 3.333333\n",
    "                \n",
    "                The '//' opeator returns the integer value of the quotient truncating all the values after decimal.\n",
    "                For Example: 3\n",
    "            \n",
    "(ii) '**' & '^' :-\n",
    "                The '**' is an exponention operator the returns the value of a numbers power.\n",
    "                For Example:- 3**2 return 9.\n",
    "                \n",
    "                The '^' is the XOR operator in python which performs bitwise XOR operation between the bits of two\n",
    "                operands.\n",
    "                "
   ]
  },
  {
   "cell_type": "markdown",
   "id": "506340c6",
   "metadata": {},
   "source": [
    "Q.3. List the logical operators."
   ]
  },
  {
   "cell_type": "raw",
   "id": "2ec853ce",
   "metadata": {},
   "source": [
    "Ans.\n",
    "    (i)   and operator :- It returns True/1 if bot the bits are true/1 otherwise it returns False/0.\n",
    "    (ii)  or operator  :- It returns True/1 if any of the bit is True/1 otherwise it returns False/0.\n",
    "    (iii) not operator :- It returns opposite of the actual bit, for example False/0 for True/1 and True/1 for\n",
    "                          False/0\n",
    "                         "
   ]
  },
  {
   "cell_type": "markdown",
   "id": "57135312",
   "metadata": {},
   "source": [
    "Q.4. Explain right shift operator and left shift operator with examples.\n"
   ]
  },
  {
   "cell_type": "raw",
   "id": "9132f5ad",
   "metadata": {},
   "source": [
    "Ans.) \n",
    "    (i)Right shift operator is a bitwise operator which shifts all the bits in a number in binary to the specified\n",
    "        number of right positions. For Example :- 1010 (10 in binary) becomes 0101 (5 in binary) after applying\n",
    "        right shift operator.\n",
    "    (ii)Left shift Operator is a bitwise operator which shifts all the bits in a number in binary to the specified\n",
    "        number of left positions. For Example :- 1010 ( 10 in binary ) becomes 10100 ( 20 in binary ) after\n",
    "        applying left shift operator."
   ]
  },
  {
   "cell_type": "markdown",
   "id": "da328f91",
   "metadata": {},
   "source": [
    "Q.5. Create a list containing int type data of length 15. Then write a code to check if 10 is present in the list or not."
   ]
  },
  {
   "cell_type": "raw",
   "id": "4f73295b",
   "metadata": {},
   "source": [
    "Ans.)"
   ]
  },
  {
   "cell_type": "code",
   "execution_count": 13,
   "id": "51499f97",
   "metadata": {},
   "outputs": [
    {
     "data": {
      "text/plain": [
       "[1, 2, 3, 4, 5, 6, 7, 8, 9, 10, 11, 12, 13, 14, 15]"
      ]
     },
     "execution_count": 13,
     "metadata": {},
     "output_type": "execute_result"
    }
   ],
   "source": [
    "l=[]\n",
    "for i in range (1,16):\n",
    "    l.append(i)\n",
    "l"
   ]
  },
  {
   "cell_type": "code",
   "execution_count": 14,
   "id": "1ec4917c",
   "metadata": {},
   "outputs": [
    {
     "name": "stdout",
     "output_type": "stream",
     "text": [
      "10 is Present\n"
     ]
    }
   ],
   "source": [
    "if 10 in l:\n",
    "    print(\"10 is Present\")\n",
    "else:\n",
    "    print(\"10 is not Present\")"
   ]
  }
 ],
 "metadata": {
  "kernelspec": {
   "display_name": "Python 3 (ipykernel)",
   "language": "python",
   "name": "python3"
  },
  "language_info": {
   "codemirror_mode": {
    "name": "ipython",
    "version": 3
   },
   "file_extension": ".py",
   "mimetype": "text/x-python",
   "name": "python",
   "nbconvert_exporter": "python",
   "pygments_lexer": "ipython3",
   "version": "3.11.5"
  }
 },
 "nbformat": 4,
 "nbformat_minor": 5
}
